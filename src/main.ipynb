{
 "cells": [
  {
   "cell_type": "markdown",
   "metadata": {},
   "source": [
    "### TODO\n",
    "* Input correct catalogue\n",
    "* set object id\n",
    "* set sampling count\n",
    "* be sure of samplepoints\n"
   ]
  },
  {
   "cell_type": "code",
   "execution_count": 3,
   "metadata": {},
   "outputs": [],
   "source": [
    "#catalogue = \"gds/jades/phot/hlsp_jades_jwst_nircam_goods-s-deep_photometry_v1.0_catalog_large_withSpec.fits\"\n",
    "catalogue = \"gds/jades/phot/hlsp_jades_jwst_nircam_goods-s-deep_photometry_v1.0_catalog.fits\"\n",
    "objectsIDs = [75224]\n",
    "sampleCnt = 10000\n",
    "template = \"EMlines\"\n",
    "excludeZeros = False"
   ]
  },
  {
   "cell_type": "code",
   "execution_count": 4,
   "metadata": {},
   "outputs": [],
   "source": [
    "import eazy, os\n",
    "\n",
    "import matplotlib as mpl\n",
    "import matplotlib.pyplot as plt\n",
    "import numpy as np\n",
    "import pandas as pd\n",
    "import time\n",
    "from math import ceil, floor\n",
    "from copy import deepcopy as copy\n",
    "\n",
    "from astropy import units as u\n",
    "from astropy.cosmology import Planck18\n",
    "from astropy.io import fits\n",
    "from astropy.table import Table, join, hstack, vstack\n",
    "from astropy.visualization import ZScaleInterval as zs\n",
    "from astroquery.mast import Observations as obs\n",
    "from IPython.utils import io\n",
    "from matplotlib.transforms import Affine2D\n",
    "from mpl_toolkits.axes_grid1.inset_locator import inset_axes\n",
    "\n",
    "import eazy_routines as ez\n",
    "import helper_module as hmod\n",
    "\n",
    "if not os.path.exists('templates'):\n",
    "    eazy.symlink_eazy_inputs()\n",
    "\n",
    "cosmo = Planck18\n",
    "\n",
    "if \"temp\" not in os.listdir():\n",
    "    os.mkdir(\"temp\")"
   ]
  },
  {
   "cell_type": "code",
   "execution_count": 5,
   "metadata": {},
   "outputs": [],
   "source": [
    "# log all camera filters\n",
    "flt = eazy.filters.FilterFile()\n",
    "\n",
    "filts_nircam = {\n",
    "        'F090W': 363,\n",
    "        'F115W': 364,\n",
    "        'F150W': 365,\n",
    "        'F182M': 370,\n",
    "        'F200W': 366,\n",
    "        'F210M': 371,\n",
    "        'F277W': 375,\n",
    "        'F335M': 381,\n",
    "        'F356W': 376,\n",
    "        'F410M': 383,\n",
    "        'F430M': 384,\n",
    "        'F444W': 358,\n",
    "        'F460M': 385,\n",
    "        'F480M': 386\n",
    "}\n",
    "\n",
    "filts_HST = {\n",
    "        'F105W': 202,\n",
    "        'F125W': 203,\n",
    "        'F140W': 204,\n",
    "        'F160W': 205,\n",
    "        'F435W': 233,\n",
    "        'F606W': 214,\n",
    "        'F775W': 216,\n",
    "        'F814W': 239,\n",
    "        'F850LP': 240\n",
    "}\n",
    "\n",
    "filts = {**filts_nircam, **filts_HST}\n",
    "\n",
    "mw_reddening = ez.get_atten_dict(filts)\n",
    "\n",
    "# get zeropoints\n",
    "zps = [1.0]*len(filts)"
   ]
  },
  {
   "cell_type": "code",
   "execution_count": 6,
   "metadata": {},
   "outputs": [
    {
     "name": "stdout",
     "output_type": "stream",
     "text": [
      "Filename: /home/tb/astrodata/gds/jades/phot/hlsp_jades_jwst_nircam_goods-s-deep_photometry_v1.0_catalog.fits\n",
      "No.    Name      Ver    Type      Cards   Dimensions   Format\n",
      "  0  PRIMARY       1 PrimaryHDU      13   ()      \n",
      "  1  FILTERS       1 BinTableHDU     33   23R x 12C   [6A, E, E, E, E, E, E, E, E, E, E, E]   \n",
      "  2  FLAG          1 BinTableHDU    161   47181R x 75C   [J, D, D, J, J, J, J, J, J, J, J, J, J, J, J, J, J, J, J, J, J, J, J, J, J, J, E, E, E, E, E, E, E, E, E, E, E, E, E, E, E, E, E, E, E, E, E, E, E, E, E, E, E, E, E, E, E, E, E, E, E, E, E, E, E, E, E, E, E, E, E, E, I, E, E]   \n",
      "  3  SIZE          1 BinTableHDU    100   47181R x 43C   [J, D, D, E, D, D, D, D, J, J, J, J, E, E, E, E, E, E, E, E, E, E, E, E, E, E, E, E, E, E, E, E, E, E, E, E, E, E, E, E, E, E, E]   \n",
      "  4  CIRC          1 BinTableHDU    856   47181R x 423C   [J, D, D, E, E, E, E, E, E, E, E, E, E, E, E, E, E, E, E, E, E, E, E, E, E, E, E, E, E, E, E, E, E, E, E, E, E, E, E, E, E, E, E, E, E, E, E, E, E, E, E, E, E, E, E, E, E, E, E, E, E, E, E, E, E, E, E, E, E, E, E, E, E, E, E, E, E, E, E, E, E, E, E, E, E, E, E, E, E, E, E, E, E, E, E, E, E, E, E, E, E, E, E, E, E, E, E, E, E, E, E, E, E, E, E, E, E, E, E, E, E, E, E, E, E, E, E, E, E, E, E, E, E, E, E, E, E, E, E, E, E, E, E, E, E, E, E, E, E, E, E, E, E, E, E, E, E, E, E, E, E, E, E, E, E, E, E, E, E, E, E, E, E, E, E, E, E, E, E, E, E, E, E, E, E, E, E, E, E, E, E, E, E, E, E, E, E, E, E, E, E, E, E, E, E, E, E, E, E, E, E, E, E, E, E, E, E, E, E, E, E, E, E, E, E, E, E, E, E, E, E, E, E, E, E, E, E, E, E, E, E, E, E, E, E, E, E, E, E, E, E, E, E, E, E, E, E, E, E, E, E, E, E, E, E, E, E, E, E, E, E, E, E, E, E, E, E, E, E, E, E, E, E, E, E, E, E, E, E, E, E, E, E, E, E, E, E, E, E, E, E, E, E, E, E, E, E, E, E, E, E, E, E, E, E, E, E, E, E, E, E, E, E, E, E, E, E, E, E, E, E, E, E, E, E, E, E, E, E, E, E, E, E, E, E, E, E, E, E, E, E, E, E, E, E, E, E, E, E, E, E, E, E, E, E, E, E, E, E, E, E, E, E, E, E, E, E, E, E, E, E, E, E, E, E, E, E, E, E, E, E, E, E, E, E, E, E, E, E, E, E, E, E, E, E, E, E, E, E, E, E, E, E, E, E, E, E, E, E, E, E, E, E]   \n",
      "  5  CIRC_BSUB     1 BinTableHDU    856   47181R x 423C   [J, D, D, E, E, E, E, E, E, E, E, E, E, E, E, E, E, E, E, E, E, E, E, E, E, E, E, E, E, E, E, E, E, E, E, E, E, E, E, E, E, E, E, E, E, E, E, E, E, E, E, E, E, E, E, E, E, E, E, E, E, E, E, E, E, E, E, E, E, E, E, E, E, E, E, E, E, E, E, E, E, E, E, E, E, E, E, E, E, E, E, E, E, E, E, E, E, E, E, E, E, E, E, E, E, E, E, E, E, E, E, E, E, E, E, E, E, E, E, E, E, E, E, E, E, E, E, E, E, E, E, E, E, E, E, E, E, E, E, E, E, E, E, E, E, E, E, E, E, E, E, E, E, E, E, E, E, E, E, E, E, E, E, E, E, E, E, E, E, E, E, E, E, E, E, E, E, E, E, E, E, E, E, E, E, E, E, E, E, E, E, E, E, E, E, E, E, E, E, E, E, E, E, E, E, E, E, E, E, E, E, E, E, E, E, E, E, E, E, E, E, E, E, E, E, E, E, E, E, E, E, E, E, E, E, E, E, E, E, E, E, E, E, E, E, E, E, E, E, E, E, E, E, E, E, E, E, E, E, E, E, E, E, E, E, E, E, E, E, E, E, E, E, E, E, E, E, E, E, E, E, E, E, E, E, E, E, E, E, E, E, E, E, E, E, E, E, E, E, E, E, E, E, E, E, E, E, E, E, E, E, E, E, E, E, E, E, E, E, E, E, E, E, E, E, E, E, E, E, E, E, E, E, E, E, E, E, E, E, E, E, E, E, E, E, E, E, E, E, E, E, E, E, E, E, E, E, E, E, E, E, E, E, E, E, E, E, E, E, E, E, E, E, E, E, E, E, E, E, E, E, E, E, E, E, E, E, E, E, E, E, E, E, E, E, E, E, E, E, E, E, E, E, E, E, E, E, E, E, E, E, E, E, E, E, E, E, E, E, E, E, E, E]   \n",
      "  6  CIRC_CONV     1 BinTableHDU    856   47181R x 423C   [J, D, D, E, E, E, E, E, E, E, E, E, E, E, E, E, E, E, E, E, E, E, E, E, E, E, E, E, E, E, E, E, E, E, E, E, E, E, E, E, E, E, E, E, E, E, E, E, E, E, E, E, E, E, E, E, E, E, E, E, E, E, E, E, E, E, E, E, E, E, E, E, E, E, E, E, E, E, E, E, E, E, E, E, E, E, E, E, E, E, E, E, E, E, E, E, E, E, E, E, E, E, E, E, E, E, E, E, E, E, E, E, E, E, E, E, E, E, E, E, E, E, E, E, E, E, E, E, E, E, E, E, E, E, E, E, E, E, E, E, E, E, E, E, E, E, E, E, E, E, E, E, E, E, E, E, E, E, E, E, E, E, E, E, E, E, E, E, E, E, E, E, E, E, E, E, E, E, E, E, E, E, E, E, E, E, E, E, E, E, E, E, E, E, E, E, E, E, E, E, E, E, E, E, E, E, E, E, E, E, E, E, E, E, E, E, E, E, E, E, E, E, E, E, E, E, E, E, E, E, E, E, E, E, E, E, E, E, E, E, E, E, E, E, E, E, E, E, E, E, E, E, E, E, E, E, E, E, E, E, E, E, E, E, E, E, E, E, E, E, E, E, E, E, E, E, E, E, E, E, E, E, E, E, E, E, E, E, E, E, E, E, E, E, E, E, E, E, E, E, E, E, E, E, E, E, E, E, E, E, E, E, E, E, E, E, E, E, E, E, E, E, E, E, E, E, E, E, E, E, E, E, E, E, E, E, E, E, E, E, E, E, E, E, E, E, E, E, E, E, E, E, E, E, E, E, E, E, E, E, E, E, E, E, E, E, E, E, E, E, E, E, E, E, E, E, E, E, E, E, E, E, E, E, E, E, E, E, E, E, E, E, E, E, E, E, E, E, E, E, E, E, E, E, E, E, E, E, E, E, E, E, E, E, E, E, E, E, E, E, E, E, E]   \n",
      "  7  KRON          1 BinTableHDU    376   47181R x 183C   [J, D, D, E, E, E, E, E, E, E, E, E, E, E, E, E, E, E, E, E, E, E, E, E, E, E, E, E, E, E, E, E, E, E, E, E, E, E, E, E, E, E, E, E, E, E, E, E, E, E, E, E, E, E, E, E, E, E, E, E, E, E, E, E, E, E, E, E, E, E, E, E, E, E, E, E, E, E, E, E, E, E, E, E, E, E, E, E, E, E, E, E, E, E, E, E, E, E, E, E, E, E, E, E, E, E, E, E, E, E, E, E, E, E, E, E, E, E, E, E, E, E, E, E, E, E, E, E, E, E, E, E, E, E, E, E, E, E, E, E, E, E, E, E, E, E, E, E, E, E, E, E, E, E, E, E, E, E, E, E, E, E, E, E, E, E, E, E, E, E, E, E, E, E, E, E, E, E, E, E, E, E, E]   \n",
      "  8  KRON_CONV     1 BinTableHDU    376   47181R x 183C   [J, D, D, E, E, E, E, E, E, E, E, E, E, E, E, E, E, E, E, E, E, E, E, E, E, E, E, E, E, E, E, E, E, E, E, E, E, E, E, E, E, E, E, E, E, E, E, E, E, E, E, E, E, E, E, E, E, E, E, E, E, E, E, E, E, E, E, E, E, E, E, E, E, E, E, E, E, E, E, E, E, E, E, E, E, E, E, E, E, E, E, E, E, E, E, E, E, E, E, E, E, E, E, E, E, E, E, E, E, E, E, E, E, E, E, E, E, E, E, E, E, E, E, E, E, E, E, E, E, E, E, E, E, E, E, E, E, E, E, E, E, E, E, E, E, E, E, E, E, E, E, E, E, E, E, E, E, E, E, E, E, E, E, E, E, E, E, E, E, E, E, E, E, E, E, E, E, E, E, E, E, E, E]   \n",
      "  9  PHOTOZ        1 BinTableHDU     42   47181R x 16C   [J, D, D, D, D, D, D, D, D, D, D, D, D, 20A, 20A, 100A]   \n",
      "None\n"
     ]
    },
    {
     "name": "stderr",
     "output_type": "stream",
     "text": [
      "WARNING: MergeConflictWarning: Cannot merge meta key 'EXTNAME' types <class 'str'> and <class 'str'>, choosing EXTNAME='PHOTOZ' [astropy.utils.metadata]\n"
     ]
    }
   ],
   "source": [
    "#=== load data\n",
    "\n",
    "inpath = os.path.join(os.getenv('astrodata'), catalogue)\n",
    "catName = inpath.split('/')[-1].split('.')[0]\n",
    "\n",
    "# print the meta info\n",
    "with fits.open(inpath) as hdul:\n",
    "    print(hdul.info())\n",
    "\n",
    "# load photometry table\n",
    "tab = Table.read(inpath, hdu=6)\n",
    "tab_redshifts = Table.read(inpath, hdu=9)\n",
    "\n",
    "#=== make EAZY table\n",
    "\n",
    "# load fluxes\n",
    "# CIRC1: 0.10 arcsec aperture (see README)\n",
    "ext = '_CIRC1'\n",
    "cols_fluxes = hmod.get_matches(ext, tab.columns, exclude='_ei')#!correct?\n",
    "cols_f = np.sort(hmod.get_matches(ext, cols_fluxes, exclude='_e'))#!correct? NMAD?? 50% percentile\n",
    "cols_fe = np.sort(hmod.get_matches('_e', cols_fluxes))#!correct?\n",
    "cols_fluxes = list(np.vstack([cols_f, cols_fe]).T.flatten())#!correct?\n",
    "cols = list(np.insert(cols_fluxes, 0, ['ID', 'RA', 'DEC']))\n",
    "\n",
    "tab = join(tab, tab_redshifts['ID', 'z_spec'], join_type='inner', keys='ID')\n",
    "tab_out = tab[cols]\n",
    "\n",
    "# convert from nJy to uJy\n",
    "# and apply MW reddening\n",
    "keys = np.array(list(mw_reddening.keys()))\n",
    "for c in cols_fluxes:\n",
    "    tab_out[c].unit = u.nJy\n",
    "    tab_out[c] = tab_out[c].to(u.uJy)\n",
    "    \n",
    "    # apply MW reddening\n",
    "    matches = hmod.get_matches(keys, c, get_idxs=True)\n",
    "    key = keys[np.int32(matches[:,0])][0]\n",
    "    tab_out[c] *= mw_reddening[key]\n",
    "    \n",
    "# rename columns\n",
    "for c in cols_f:\n",
    "    cnew = c.replace(ext, '_flux')\n",
    "    tab_out.rename_column(c, cnew)\n",
    "\n",
    "for c in cols_fe:\n",
    "    cnew = c.replace(ext+'_e', '_err')\n",
    "    tab_out.rename_column(c, cnew)\n",
    "\n",
    "#=== apply MW reddening\n",
    "#atten_dict = ez.get_atten_dict(filts_eazyres, filts_str)\n",
    "#degr_image_sig *= atten_dict[filt] / 100. # uJy\n",
    "\n",
    "# pick out object IDs\n",
    "tab_target_index = []\n",
    "for i in range(len(tab_out)): \n",
    "    if tab_out['ID'][i] in objectsIDs:\n",
    "        tab_target_index.append(i)\n",
    "tab_target_index = np.array(tab_target_index)\n",
    "tab_target = tab_out[tab_target_index]\n",
    "\n",
    "# make artifficial catalogue with variation within flux errors\n",
    "gaussian = lambda x, mu, sig: np.exp(-np.power(x - mu, 2.) / (2 * np.power(sig, 2.)))\n",
    "flux_errs = np.asarray(tab_target[['{}_err'.format(f) for f in filts.keys()]])\n",
    "flux_errs = np.array([e for e in flux_errs[0]])\n",
    "fluxes = np.array(tab_target[['{}_flux'.format(f) for f in filts.keys()]])\n",
    "fluxes = np.array([f for f in fluxes[0]])\n",
    "\n",
    "#assuming that std=e/f https://physics.nist.gov/cgi-bin/cuu/Info/Constants/definitions.html #!probably not correct\n",
    "\n",
    "#add to dict if no nan entries\n",
    "filtermess = {f: [fluxes[i],flux_errs[i]] for i, f in enumerate(filts.keys()) if not np.isnan(fluxes[i]) and not np.isnan(flux_errs[i])}\n",
    "\n",
    "#create distribution of fluxes\n",
    "fluxes_dist = np.array([np.random.normal(f, e/f, sampleCnt) for f, e in filtermess.values()])\n",
    "if excludeZeros: fluxes_dist = np.array([np.array([f for f in fluxes_dist[i] if f > 0]) for i in range(len(fluxes_dist))])\n",
    "serieses = fluxes_dist.T\n",
    "\n",
    "#create synthetic catalogue with fluxes\n",
    "tab_synthetic = Table()\n",
    "tab_synthetic['ID'] = np.arange(sampleCnt)\n",
    "tab_synthetic['RA'] = tab_target['RA'][0]\n",
    "tab_synthetic['DEC'] = tab_target['DEC'][0]\n",
    "for i, f in enumerate(filtermess.keys()):\n",
    "    tab_synthetic['{}_flux'.format(f)] = serieses[:,i]\n",
    "    tab_synthetic['{}_err'.format(f)] = np.full(sampleCnt, filtermess[f][1])\n",
    "\n",
    "#add to target table\n",
    "#import vstack\n",
    "\n",
    "tab_target = vstack([tab_target, tab_synthetic])\n",
    "\n",
    "# save EAZY table\n",
    "tab_target.write('temp/eazy_input.fits', format='fits', overwrite=True)"
   ]
  },
  {
   "cell_type": "code",
   "execution_count": 7,
   "metadata": {},
   "outputs": [],
   "source": [
    "runTime = int(time.time())"
   ]
  },
  {
   "cell_type": "code",
   "execution_count": 8,
   "metadata": {},
   "outputs": [],
   "source": [
    "#=== set up paths for eazy\n",
    "\n",
    "# catalog paths\n",
    "cat_name = 'eazy_input'\n",
    "cat_path = f'temp/{cat_name}.fits'\n",
    "keys_id = ['ID', 'RA', 'DEC']\n",
    "\n",
    "# template names and paths\n",
    "\"\"\"ftempl_strs = ['corr_sfhz_13', 'blue_sfhz_13', 'fsps_45k']\"\"\"\n",
    "\"\"\"templ_paths = [f\"templates/sfhz/{ftempl_strs[0]}.param\",\n",
    "               f\"templates/sfhz/{ftempl_strs[1]}.param\",\n",
    "               f\"templates/templates-c2020/45k/{ftempl_strs[2]}.param\"]\"\"\"\n",
    "ftempl_strs = [\n",
    "    'EMextreme.param',\n",
    "    'EMlines.param',\n",
    "    'fsps_45k_0.3removed',\n",
    "    'fsps_45k',\n",
    "    'fsps_60k',\n",
    "    'carnall_sfhz_13',\n",
    "    'corr_sfhz_13',\n",
    "    'blue_sfhz_13',\n",
    "    'eazy_v1.1_lines.spectra', \n",
    "    'eazy_v1.3.spectra',\n",
    "    'br07_default.spectra',\n",
    "    'pegase.spectra',\n",
    "    'pegase13.spectra',\n",
    "    'cww+kin.spectra'\n",
    "    ]\n",
    "ftempl_str = [e for e in ftempl_strs if template in e][0]\n",
    "templ_path = f\"templates/{ftempl_str}\"\n",
    "out_name = f\"ID{objectsIDs[0]}_{template}_{sampleCnt}\"\n",
    "out_path = f\"eazy-output/{out_name}_{runTime}\"\n",
    "paths = [templ_path, out_path]"
   ]
  },
  {
   "cell_type": "code",
   "execution_count": 9,
   "metadata": {},
   "outputs": [
    {
     "name": "stdout",
     "output_type": "stream",
     "text": [
      "Read default param file: /home/tb/miniconda3/envs/eazy39/lib/python3.9/site-packages/eazy/data/zphot.param.default\n",
      "Read CATALOG_FILE: temp/eazy_input.fits\n",
      "   >>> NOBJ = 10001\n",
      "F090W_flux F090W_err (363): jwst_nircam_f090w\n",
      "F115W_flux F115W_err (364): jwst_nircam_f115w\n",
      "F150W_flux F150W_err (365): jwst_nircam_f150w\n",
      "F182M_flux F182M_err (370): jwst_nircam_f182m\n",
      "F200W_flux F200W_err (366): jwst_nircam_f200w\n",
      "F210M_flux F210M_err (371): jwst_nircam_f210m\n",
      "F277W_flux F277W_err (375): jwst_nircam_f277w\n",
      "F335M_flux F335M_err (381): jwst_nircam_f335m\n",
      "F356W_flux F356W_err (376): jwst_nircam_f356w\n",
      "F410M_flux F410M_err (383): jwst_nircam_f410m\n",
      "F430M_flux F430M_err (384): jwst_nircam_f430m\n",
      "F444W_flux F444W_err (358): jwst_niriss_f444w\n",
      "F460M_flux F460M_err (385): jwst_nircam_f460m\n",
      "F480M_flux F480M_err (386): jwst_nircam_f480m\n",
      "F105W_flux F105W_err (202): hst/wfc3/IR/f105w.dat\n",
      "F125W_flux F125W_err (203): hst/wfc3/IR/f125w.dat\n",
      "F140W_flux F140W_err (204): hst/wfc3/IR/f140w.dat\n",
      "F160W_flux F160W_err (205): hst/wfc3/IR/f160w.dat\n",
      "F435W_flux F435W_err (233): hst/ACS_update_sep07/wfc_f435w_t81.dat\n",
      "F606W_flux F606W_err (214): hst/wfc3/UVIS/f606w.dat\n",
      "F775W_flux F775W_err (216): hst/wfc3/UVIS/f775w.dat\n",
      "F814W_flux F814W_err (239): hst/ACS_update_sep07/wfc_f814w_t81.dat\n",
      "F850LP_flux F850LP_err (240): hst/ACS_update_sep07/wfc_f850lp_t81.dat\n"
     ]
    },
    {
     "name": "stderr",
     "output_type": "stream",
     "text": [
      "WARNING: No z_spec column found in catalog.  Some functionality might not be available. [eazy.photoz]\n"
     ]
    },
    {
     "name": "stdout",
     "output_type": "stream",
     "text": [
      "Set sys_err = 0.01 (positive=True)\n"
     ]
    },
    {
     "name": "stderr",
     "output_type": "stream",
     "text": [
      "/home/tb/miniconda3/envs/eazy39/lib/python3.9/site-packages/eazy/photoz.py:1326: RuntimeWarning: invalid value encountered in log10\n",
      "  self.prior_mag_cat += -2.5*np.log10(np.squeeze(self.fnu[:,ix]))\n"
     ]
    },
    {
     "name": "stdout",
     "output_type": "stream",
     "text": [
      "Read PRIOR_FILE:  templates/prior_F160W_TAO.dat\n",
      "Template grid: templates/EMlines.param (this may take some time)\n"
     ]
    },
    {
     "name": "stderr",
     "output_type": "stream",
     "text": [
      " 18%|█▊        | 7/40 [00:14<00:40,  1.23s/it]"
     ]
    }
   ],
   "source": [
    "# iterate over tempalte sets\n",
    "tpath, opath = paths\n",
    "    \n",
    "params = {\"cat_path\": cat_path,\n",
    "            \"templ_path\": tpath,\n",
    "            \"out_path\": opath,\n",
    "            \"FIX_ZSPEC\": 'n',\n",
    "            \"USE_ZSPEC_FOR_REST\": 'n',\n",
    "            \"Z_MAX\": 12.0,\n",
    "            \"H0\": cosmo.H0,\n",
    "            \"OMEGA_M\": cosmo.Om0,\n",
    "            \"OMEGA_L\": cosmo.Ode0,\n",
    "            \"CATALOG_FORMAT\": 'fits'}\n",
    "\n",
    "# write eazy config files\n",
    "filt_num, fnames = ez.write_config(cat_name, filts, zps, keys_id,\n",
    "                                    out_path=opath)\n",
    "\n",
    "# run eazy\n",
    "#idx = np.array([0])\n",
    "idx = None\n",
    "zout, hdu = ez.run_eazy(params, fnames, n_proc=-1, idx=idx)"
   ]
  },
  {
   "cell_type": "code",
   "execution_count": null,
   "metadata": {},
   "outputs": [
    {
     "ename": "NameError",
     "evalue": "name 'out_path' is not defined",
     "output_type": "error",
     "traceback": [
      "\u001b[0;31m---------------------------------------------------------------------------\u001b[0m",
      "\u001b[0;31mNameError\u001b[0m                                 Traceback (most recent call last)",
      "\u001b[1;32m/mnt/c/Users/thorb/git/EAZY_photoz_errorpropp/src/main.ipynb Cell 9\u001b[0m line \u001b[0;36m4\n\u001b[1;32m      <a href='vscode-notebook-cell://wsl%2Bubuntu/mnt/c/Users/thorb/git/EAZY_photoz_errorpropp/src/main.ipynb#X11sdnNjb2RlLXJlbW90ZQ%3D%3D?line=0'>1</a>\u001b[0m \u001b[39m#find latest runTime in folder:\u001b[39;00m\n\u001b[1;32m      <a href='vscode-notebook-cell://wsl%2Bubuntu/mnt/c/Users/thorb/git/EAZY_photoz_errorpropp/src/main.ipynb#X11sdnNjb2RlLXJlbW90ZQ%3D%3D?line=1'>2</a>\u001b[0m \u001b[39m#runTime = int(np.sort([int(f.split('_')[-1]) for f in os.listdir('eazy-output')])[-1])\u001b[39;00m\n\u001b[1;32m      <a href='vscode-notebook-cell://wsl%2Bubuntu/mnt/c/Users/thorb/git/EAZY_photoz_errorpropp/src/main.ipynb#X11sdnNjb2RlLXJlbW90ZQ%3D%3D?line=2'>3</a>\u001b[0m \u001b[39m#outpaths = 'eazy-output/{ftempl}_{runTime}/gds_jades_eazy.zout.fits'\u001b[39;00m\n\u001b[0;32m----> <a href='vscode-notebook-cell://wsl%2Bubuntu/mnt/c/Users/thorb/git/EAZY_photoz_errorpropp/src/main.ipynb#X11sdnNjb2RlLXJlbW90ZQ%3D%3D?line=3'>4</a>\u001b[0m outpath \u001b[39m=\u001b[39m out_path\n",
      "\u001b[0;31mNameError\u001b[0m: name 'out_path' is not defined"
     ]
    }
   ],
   "source": [
    "#find latest runTime in folder:\n",
    "#runTime = int(np.sort([int(f.split('_')[-1]) for f in os.listdir('eazy-output')])[-1])\n",
    "#outpaths = 'eazy-output/{ftempl}_{runTime}/gds_jades_eazy.zout.fits'\n",
    "outpath = out_path\n"
   ]
  },
  {
   "cell_type": "code",
   "execution_count": null,
   "metadata": {},
   "outputs": [],
   "source": [
    "tbl = Table.read(outpath+\".fits\")\n",
    "df = tbl.to_pandas()\n",
    "z_phot = df['z_phot']\n",
    "\n",
    "#plot z_phot distribution\n",
    "plt.hist(z_phot, bins=100)\n",
    "plt.title('z_phot distribution')\n",
    "plt.xlabel('z_phot')\n",
    "plt.ylabel('count')\n",
    "plt.show()"
   ]
  }
 ],
 "metadata": {
  "kernelspec": {
   "display_name": "eazy39",
   "language": "python",
   "name": "python3"
  },
  "language_info": {
   "codemirror_mode": {
    "name": "ipython",
    "version": 3
   },
   "file_extension": ".py",
   "mimetype": "text/x-python",
   "name": "python",
   "nbconvert_exporter": "python",
   "pygments_lexer": "ipython3",
   "version": "3.9.16"
  },
  "orig_nbformat": 4
 },
 "nbformat": 4,
 "nbformat_minor": 2
}
